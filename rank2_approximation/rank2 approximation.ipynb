{
 "cells": [
  {
   "cell_type": "code",
   "execution_count": 10,
   "metadata": {
    "collapsed": false
   },
   "outputs": [],
   "source": [
    "import numpy as np\n",
    "import csv\n",
    "import math\n",
    "import pandas as pd\n",
    "import operator\n",
    "path2=r'C:\\Users\\pegah\\Desktop\\univ\\social media mining\\hw\\hw5\\ml-20m\\ml-20m\\ratings.csv'\n",
    "with open(path2) as f:\n",
    "    ratings=[tuple(line) for line in csv.reader(f)]\n",
    "ratings.remove(ratings[0])\n",
    "rat=pd.DataFrame([x[1:3] for x in ratings], index = [x[0] for x in ratings])"
   ]
  },
  {
   "cell_type": "markdown",
   "metadata": {},
   "source": [
    "I do it for 100 user just to save time. For the original problem the notations are added for changing the values."
   ]
  },
  {
   "cell_type": "code",
   "execution_count": 107,
   "metadata": {
    "collapsed": true
   },
   "outputs": [],
   "source": [
    "#for original problem:\n",
    "#rat_mat=numpy.zeros((138493, 10))\n",
    "rat_mat=np.zeros((101, 10))"
   ]
  },
  {
   "cell_type": "code",
   "execution_count": 85,
   "metadata": {
    "collapsed": false
   },
   "outputs": [],
   "source": [
    "#movie list _ top 10\n",
    "m_list=[318,858,1221,58559,77846, 527, 296, 7153, 1201, 2959]"
   ]
  },
  {
   "cell_type": "code",
   "execution_count": 108,
   "metadata": {
    "collapsed": false
   },
   "outputs": [],
   "source": [
    "#building matirx X\n",
    "#for oroginal:\n",
    "#for j in range(len(ratings)\n",
    "#11100 is the last rating for user ID 100\n",
    "for j in range(11100):\n",
    "    if int(rat.iloc[j][0]) in m_list:\n",
    "        rat_mat[int(rat.iloc[[j]].index.tolist()[0])][m_list.index(int(rat.iloc[j][0]))]=float(rat.iloc[j][1])\n",
    "rat_mat[rat_mat == 0] = -1"
   ]
  },
  {
   "cell_type": "code",
   "execution_count": 109,
   "metadata": {
    "collapsed": false
   },
   "outputs": [],
   "source": [
    "#SVD and rank2\n",
    "U, s, V = np.linalg.svd(rat_mat, full_matrices=True,compute_uv=1)\n",
    "Uk=U[:, [0, 1]]\n",
    "Vk=V[[0,1],:]\n",
    "sk=s[[0,2]]"
   ]
  },
  {
   "cell_type": "code",
   "execution_count": 135,
   "metadata": {
    "collapsed": false
   },
   "outputs": [
    {
     "data": {
      "image/png": "[encoded data removed]",
      "text/plain": [
       "<matplotlib.figure.Figure at 0x1baad1f9c18>"
      ]
     },
     "metadata": {},
     "output_type": "display_data"
    }
   ],
   "source": [
    "#plot\n",
    "x1=Uk[:,0]\n",
    "y1=Uk[:,1]\n",
    "x2=Vk[0,:]\n",
    "y2=Vk[1,:]\n",
    "p1=plt.scatter(x1, y1, marker='x', color='b')\n",
    "p2=plt.scatter(x2, y2, marker='o', color='c')\n",
    "plt.legend((p1,p2),\n",
    "           ('users', 'movies'),\n",
    "           scatterpoints=1,\n",
    "           loc='lower left',\n",
    "           ncol=3,\n",
    "           fontsize=9)\n",
    "plt.show()"
   ]
  }
 ],
 "metadata": {
  "kernelspec": {
   "display_name": "Python [conda root]",
   "language": "python",
   "name": "conda-root-py"
  },
  "language_info": {
   "codemirror_mode": {
    "name": "ipython",
    "version": 3
   },
   "file_extension": ".py",
   "mimetype": "text/x-python",
   "name": "python",
   "nbconvert_exporter": "python",
   "pygments_lexer": "ipython3",
   "version": "3.5.2"
  }
 },
 "nbformat": 4,
 "nbformat_minor": 1
}
