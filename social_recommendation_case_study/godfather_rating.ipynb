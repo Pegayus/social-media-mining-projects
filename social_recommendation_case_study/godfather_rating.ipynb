{
 "cells": [
  {
   "cell_type": "code",
   "execution_count": 1,
   "metadata": {
    "collapsed": true
   },
   "outputs": [],
   "source": [
    "import numpy as np\n",
    "import csv\n",
    "import math\n",
    "import pandas as pd\n",
    "import operator\n",
    "import heapq"
   ]
  },
  {
   "cell_type": "code",
   "execution_count": 1,
   "metadata": {
    "collapsed": true
   },
   "outputs": [],
   "source": [
    "path2=r'C:\\Users\\pegah\\Desktop\\univ\\social media mining\\hw\\hw5\\ml-20m\\ml-20m\\ratings.csv'\n",
    "with open(path2) as f:\n",
    "    ratings=[tuple(line) for line in csv.reader(f)]\n",
    "ratings.remove(ratings[0])\n",
    "rat=pd.DataFrame([x[1:3] for x in ratings], index = [x[0] for x in ratings])"
   ]
  },
  {
   "cell_type": "code",
   "execution_count": 2,
   "metadata": {
    "collapsed": true
   },
   "outputs": [],
   "source": [
    "#for original problem:\n",
    "#rat_mat=numpy.zeros((138493, 10))\n",
    "#rat_mat=X\n",
    "rat_mat=np.zeros((101, 10))\n",
    "#movie list _ top 10\n",
    "m_list=[318,858,1221,58559,77846, 527, 296, 7153, 1201, 2959]\n",
    "#building matirx X\n",
    "#for oroginal:\n",
    "#for j in range(len(ratings)\n",
    "#11100 is the last rating for user ID 100\n",
    "for j in range(11100):\n",
    "    if int(rat.iloc[j][0]) in m_list:\n",
    "        rat_mat[int(rat.iloc[[j]].index.tolist()[0])][m_list.index(int(rat.iloc[j][0]))]=float(rat.iloc[j][1])\n",
    "rat_mat[rat_mat == 0] = -1\n",
    "rat_mat[18,1]=-1"
   ]
  },
  {
   "cell_type": "code",
   "execution_count": 3,
   "metadata": {
    "collapsed": true
   },
   "outputs": [],
   "source": [
    "#SVD and rank2\n",
    "U, s, V = np.linalg.svd(rat_mat, full_matrices=True,compute_uv=1)\n",
    "Uk=U[:, [0, 1]]\n",
    "Vk=V[[0,1],:]\n",
    "sk=s[[0,2]]"
   ]
  },
  {
   "cell_type": "markdown",
   "metadata": {},
   "source": [
    "Estimate the rating with rank reduction:"
   ]
  },
  {
   "cell_type": "code",
   "execution_count": 119,
   "metadata": {},
   "outputs": [
    {
     "name": "stdout",
     "output_type": "stream",
     "text": [
      "5 most similar movies to Godfather with SVD are: [318, 77846, 527, 1221, 1201, 858]\n",
      "5 most similar users to user 18 with SVD are: [58, 91, 73, 35, 21, 18]\n"
     ]
    }
   ],
   "source": [
    "#using SVD\n",
    "neigh=5\n",
    "#item based\n",
    "sim=[]\n",
    "m_s=[]\n",
    "for i in range(10):\n",
    "    p=np.dot( Vk[:,1], Vk[:,i])\n",
    "    s=p/(np.linalg.norm(Vk[:,1])*np.linalg.norm(Vk[:,i]))\n",
    "    sim.append(s)\n",
    "sim_m=heapq.nlargest(5,sim)\n",
    "most_sim=list(np.argsort(sim)[-6:])\n",
    "#del most_sim[-1]\n",
    "for i in most_sim:\n",
    "    m_s.append(m_list[i])\n",
    "print('5 most similar movies to Godfather with SVD are:',m_s)\n",
    "#user based\n",
    "sim1=[]\n",
    "m_s1=[]\n",
    "for i in range(len(Uk)):\n",
    "    p1=np.dot( Uk[18,:], Uk[i,:])\n",
    "    s1=p1/(np.linalg.norm(Uk[18,:])*np.linalg.norm(Uk[i,:]))\n",
    "    sim1.append(s1)\n",
    "sim1_m=heapq.nlargest(5,sim1)\n",
    "most_sim1=list(np.argsort(sim1)[-6:])\n",
    "#del most_sim1[-1]\n",
    "print('5 most similar users to user 18 with SVD are:',most_sim1)"
   ]
  },
  {
   "cell_type": "code",
   "execution_count": 132,
   "metadata": {},
   "outputs": [
    {
     "name": "stdout",
     "output_type": "stream",
     "text": [
      "final rating for user 18 and movie 858 by item based method is: 4.59927687189\n"
     ]
    }
   ],
   "source": [
    "#item based\n",
    "#average of item rating\n",
    "avg_m=[]\n",
    "s=0\n",
    "c=0\n",
    "for i in range(6):\n",
    "    for j in range(len(rat_mat)):\n",
    "        if rat_mat[j][most_sim[i]]!=-1:\n",
    "            s=s+rat_mat[j][most_sim[i]]\n",
    "            c=c+1\n",
    "    if c!=0:\n",
    "        a=s/c\n",
    "        avg_m.append(a)\n",
    "        s=0\n",
    "        c=0\n",
    "    else:\n",
    "        avg_m.append(0)\n",
    "sig1=sig2=0\n",
    "for i in range(5):\n",
    "    sig1=sig+sim_m[i]*(rat_mat[18][most_sim[i]]-avg_m[i])\n",
    "    sig2=sig2+sim_m[i]\n",
    "final_rating=avg_m[5]+(sig1/sig2)\n",
    "print(\"final rating for user 18 and movie 858 by item based method is:\",final_rating)"
   ]
  },
  {
   "cell_type": "code",
   "execution_count": 131,
   "metadata": {},
   "outputs": [
    {
     "name": "stdout",
     "output_type": "stream",
     "text": [
      "final rating for user 18 and movie 858 by user based method is: 4.23592734505\n"
     ]
    }
   ],
   "source": [
    "#user based\n",
    "#average of user ratings\n",
    "avg_u=[]\n",
    "s=0\n",
    "c=0\n",
    "for i in range(6):\n",
    "    for j in range(10):\n",
    "        if rat_mat[most_sim1[i]][j]!=-1:\n",
    "            s=s+rat_mat[most_sim1[i]][j]\n",
    "            c=c+1\n",
    "    if c!=0:\n",
    "        a=s/c\n",
    "        avg_u.append(a)\n",
    "        s=0\n",
    "        c=0\n",
    "    else:\n",
    "        avg_u.append(0)\n",
    "#final rating\n",
    "sig1=sig2=0\n",
    "for i in range(5):\n",
    "    sig1=sig+sim1_m[i]*(rat_mat[most_sim1[i]][1]-avg_u[i])\n",
    "    sig2=sig2+sim1_m[i]\n",
    "final_rating=avg_u[5]+(sig1/sig2)\n",
    "print(\"final rating for user 18 and movie 858 by user based method is:\",final_rating)"
   ]
  },
  {
   "cell_type": "markdown",
   "metadata": {},
   "source": [
    "Estimating without using rank reduction:"
   ]
  },
  {
   "cell_type": "code",
   "execution_count": 138,
   "metadata": {},
   "outputs": [
    {
     "name": "stdout",
     "output_type": "stream",
     "text": [
      "5 most similar movies to Godfather with SVD are: [2959, 77846, 58559, 527, 1221, 858]\n",
      "5 most similar users to user 18 with SVD are: [20, 82, 71, 2, 60, 18]\n"
     ]
    }
   ],
   "source": [
    "#NOT using SVD\n",
    "neigh=5\n",
    "#item based\n",
    "sim=[]\n",
    "m_s=[]\n",
    "for i in range(10):\n",
    "    p=np.dot( V[:,1], V[:,i])\n",
    "    s=p/(np.linalg.norm(V[:,1])*np.linalg.norm(V[:,i]))\n",
    "    sim.append(s)\n",
    "sim_m=heapq.nlargest(5,sim)\n",
    "most_sim=list(np.argsort(sim)[-6:])\n",
    "#del most_sim[-1]\n",
    "for i in most_sim:\n",
    "    m_s.append(m_list[i])\n",
    "print('5 most similar movies to Godfather with SVD are:',m_s)\n",
    "#user based\n",
    "sim1=[]\n",
    "m_s1=[]\n",
    "for i in range(len(U)):\n",
    "    p1=np.dot( U[18,:], U[i,:])\n",
    "    s1=p1/(np.linalg.norm(U[18,:])*np.linalg.norm(U[i,:]))\n",
    "    sim1.append(s1)\n",
    "sim1_m=heapq.nlargest(5,sim1)\n",
    "most_sim1=list(np.argsort(sim1)[-6:])\n",
    "#del most_sim1[-1]\n",
    "print('5 most similar users to user 18 with SVD are:',most_sim1)"
   ]
  },
  {
   "cell_type": "code",
   "execution_count": 136,
   "metadata": {},
   "outputs": [
    {
     "name": "stdout",
     "output_type": "stream",
     "text": [
      "final rating for user 18 and movie 858 by item based method is: 4.70034232694\n"
     ]
    }
   ],
   "source": [
    "#item based\n",
    "#average of item rating\n",
    "avg_m=[]\n",
    "s=0\n",
    "c=0\n",
    "for i in range(6):\n",
    "    for j in range(len(rat_mat)):\n",
    "        if rat_mat[j][most_sim[i]]!=-1:\n",
    "            s=s+rat_mat[j][most_sim[i]]\n",
    "            c=c+1\n",
    "    if c!=0:\n",
    "        a=s/c\n",
    "        avg_m.append(a)\n",
    "        s=0\n",
    "        c=0\n",
    "    else:\n",
    "        avg_m.append(0)\n",
    "sig1=sig2=0\n",
    "for i in range(5):\n",
    "    sig1=sig+sim_m[i]*(rat_mat[18][most_sim[i]]-avg_m[i])\n",
    "    sig2=sig2+sim_m[i]\n",
    "final_rating=avg_m[5]+(sig1/sig2)\n",
    "print(\"final rating for user 18 and movie 858 by item based method is:\",final_rating)"
   ]
  },
  {
   "cell_type": "code",
   "execution_count": 137,
   "metadata": {},
   "outputs": [
    {
     "name": "stdout",
     "output_type": "stream",
     "text": [
      "final rating for user 18 and movie 858 by user based method is: 4.37860319651\n"
     ]
    }
   ],
   "source": [
    "#user based\n",
    "#average of user ratings\n",
    "avg_u=[]\n",
    "s=0\n",
    "c=0\n",
    "for i in range(6):\n",
    "    for j in range(10):\n",
    "        if rat_mat[most_sim1[i]][j]!=-1:\n",
    "            s=s+rat_mat[most_sim1[i]][j]\n",
    "            c=c+1\n",
    "    if c!=0:\n",
    "        a=s/c\n",
    "        avg_u.append(a)\n",
    "        s=0\n",
    "        c=0\n",
    "    else:\n",
    "        avg_u.append(0)\n",
    "#final rating\n",
    "sig1=sig2=0\n",
    "for i in range(5):\n",
    "    sig1=sig+sim1_m[i]*(rat_mat[most_sim1[i]][1]-avg_u[i])\n",
    "    sig2=sig2+sim1_m[i]\n",
    "final_rating=avg_u[5]+(sig1/sig2)\n",
    "print(\"final rating for user 18 and movie 858 by user based method is:\",final_rating)"
   ]
  }
 ],
 "metadata": {
  "anaconda-cloud": {},
  "kernelspec": {
   "display_name": "Python 3",
   "language": "python",
   "name": "python3"
  },
  "language_info": {
   "codemirror_mode": {
    "name": "ipython",
    "version": 3
   },
   "file_extension": ".py",
   "mimetype": "text/x-python",
   "name": "python",
   "nbconvert_exporter": "python",
   "pygments_lexer": "ipython3",
   "version": "3.6.2"
  }
 },
 "nbformat": 4,
 "nbformat_minor": 1
}
